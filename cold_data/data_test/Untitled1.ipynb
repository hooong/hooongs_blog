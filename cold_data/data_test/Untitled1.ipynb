{
 "cells": [
  {
   "cell_type": "code",
   "execution_count": 42,
   "metadata": {},
   "outputs": [
    {
     "name": "stdout",
     "output_type": "stream",
     "text": [
      "   Unnamed: 0 Unnamed: 1   date    16_1  16_1.1  16_1.2    16_1.3   16_1.4  \\\n",
      "0        code        sex    age    pNum    내원일수    청구건수  요양급여비용총액   보험자부담금   \n",
      "1         J00      total  total  751250  968843  967592  12871666  9592181   \n",
      "2         J00       male  total  337279  434521  434163   5779761  4310812   \n",
      "3         J00       male    0_9   97851  134887  134782   1868967  1420517   \n",
      "4         J00       male  10_19   18454   21485   21469    318479   221534   \n",
      "5         J00       male  20_29   17397   19300   19290    301285   206281   \n",
      "6         J00       male  30_39   30271   34619   34614    540632   368641   \n",
      "7         J00       male  40_49   35542   42080   42063    601236   420331   \n",
      "8         J00       male  50_59   43289   53775   53654    703354   506132   \n",
      "9         J00       male  60_69   42980   56820   56785    672104   521801   \n",
      "10        J00       male  70_79   39476   54704   54665    591569   494330   \n",
      "11        J00       male     80   12146   16851   16841    182134   151245   \n",
      "12        J00     female  total  413971  534322  533429   7091904  5281369   \n",
      "13        J00     female    0_9   96533  132565  132473   1833147  1394548   \n",
      "14        J00     female  10_19   17801   20388   20371    298701   208032   \n",
      "15        J00     female  20_29   26847   30496   30437    490126   329897   \n",
      "16        J00     female  30_39   40902   48579   48485    746854   506939   \n",
      "17        J00     female  40_49   42325   51880   51806    750771   523505   \n",
      "18        J00     female  50_59   59036   75067   74968    988759   707096   \n",
      "19        J00     female  60_69   54727   71800   71734    858853   667354   \n",
      "20        J00     female  70_79   54505   74184   73999    803711   675675   \n",
      "21        J00     female     80   21454   29363   29156    320982   268324   \n",
      "\n",
      "      16_2   16_2.1  ...   18_11 18_11.1 18_11.2   18_11.3   18_11.4   18_12  \\\n",
      "0     pNum     내원일수  ...    pNum    내원일수    청구건수  요양급여비용총액    보험자부담금    pNum   \n",
      "1   813016  1046214  ...  709752  928901  928091  13572931  10122665  833093   \n",
      "2   366107   469737  ...  318998  418713  418386   6108090   4556341  377218   \n",
      "3   108777   148698  ...  105321  157351  157139   2305747   1759120  100029   \n",
      "4    23045    26742  ...   31438   37506   37482    571684    400392   39345   \n",
      "5    19022    21119  ...   19904   22126   22124    368735    253050   24570   \n",
      "6    34077    38900  ...   26402   30163   30146    506524    347710   34047   \n",
      "7    39941    47329  ...   28521   33681   33668    531008    370180   40948   \n",
      "8    45462    56565  ...   32644   39571   39512    572513    409781   45309   \n",
      "9    43993    58216  ...   33602   42886   42891    566663    443374   43719   \n",
      "10   39657    55080  ...   29584   39663   39653    494069    413496   35757   \n",
      "11   12244    17088  ...   11679   15766   15771    191147    159238   13612   \n",
      "12  446909   576477  ...  390754  510188  509705   7464841   5566324  455875   \n",
      "13  107183   146230  ...  105743  157682  157532   2302275   1754484  100767   \n",
      "14   22236    25510  ...   33021   38711   38703    592830    414561   39427   \n",
      "15   29164    32979  ...   26898   30226   30211    514577    350066   34443   \n",
      "16   46783    55395  ...   37293   44308   44281    733881    507083   45415   \n",
      "17   46919    57795  ...   36408   44467   44443    698494    486411   49314   \n",
      "18   61222    78462  ...   45929   56976   56890    839668    597595   59471   \n",
      "19   56448    74839  ...   46004   58867   58772    807508    629347   56281   \n",
      "20   55509    75687  ...   39906   52947   52903    655626    557126   47853   \n",
      "21   21624    29580  ...   19674   26004   25970    319981    269652   23072   \n",
      "\n",
      "    18_12.1  18_12.2   18_12.3   18_12.4  \n",
      "0      내원일수     청구건수  요양급여비용총액    보험자부담금  \n",
      "1   1073388  1072429  16027608  11814821  \n",
      "2    485073   484771   7240062   5336890  \n",
      "3    145049   144916   2158721   1640294  \n",
      "4     47117    47079    744010    515469  \n",
      "5     27156    27147    474642    321485  \n",
      "6     38663    38657    669343    455479  \n",
      "7     48254    48203    788573    545158  \n",
      "8     55276    55244    819232    580357  \n",
      "9     56556    56529    759346    590341  \n",
      "10    48439    48444    598971    498997  \n",
      "11    18563    18552    227224    189309  \n",
      "12   588315   587658   8787546   6477931  \n",
      "13   146061   145838   2173363   1652016  \n",
      "14    46664    46610    744480    515491  \n",
      "15    38807    38790    701035    472327  \n",
      "16    53989    53891    931858    636730  \n",
      "17    60655    60625    977804    673120  \n",
      "18    74669    74634   1106801    780622  \n",
      "19    73135    73060    988913    765442  \n",
      "20    63662    63633    778533    660080  \n",
      "21    30673    30577    384758    322102  \n",
      "\n",
      "[22 rows x 183 columns]\n"
     ]
    }
   ],
   "source": [
    "import pandas as pd\n",
    "import numpy as np\n",
    "import matplotlib.pyplot as plt\n",
    "\n",
    "j00_data = pd.read_csv('./j00_1601_1812.csv')\n",
    "print(j00_data)"
   ]
  },
  {
   "cell_type": "code",
   "execution_count": 37,
   "metadata": {
    "scrolled": true
   },
   "outputs": [
    {
     "name": "stdout",
     "output_type": "stream",
     "text": [
      "[80 67 70 65 56 44 39 38 54 62 71 89]\n"
     ]
    }
   ],
   "source": [
    "data_month = []\n",
    "\n",
    "for i in range(1,13):\n",
    "    list_mon = []\n",
    "    for m in [16,17,18]:\n",
    "        list_mon.append(str(m)+'_'+str(i))\n",
    "\n",
    "    data_mon = pd.DataFrame()\n",
    "    for j in list_mon:\n",
    "        data_mon.loc[:,j] = j00_data[:22][j]\n",
    "    \n",
    "    data_mon = data_mon[1:].astype('int')\n",
    "    data_month.append(data_mon.sum(axis=1)[1])\n",
    "\n",
    "\n",
    "data_month = np.array(data_month)\n",
    "data_mon_avg = (data_month // 3) // 10000   # 0~100까지의 값만 사용하기 위해 나눔\n",
    "\n",
    "print(data_mon_avg)"
   ]
  },
  {
   "cell_type": "code",
   "execution_count": 40,
   "metadata": {},
   "outputs": [
    {
     "data": {
      "image/png": "[encoded data removed]",
      "text/plain": [
       "<Figure size 432x288 with 1 Axes>"
      ]
     },
     "metadata": {
      "needs_background": "light"
     },
     "output_type": "display_data"
    }
   ],
   "source": [
    "month = ['01','02','03','04','05','06','07','08','09','10','11','12']\n",
    "plt.plot(month,data_mon_avg,color='red',marker='o',linestyle='solid')\n",
    "plt.title('Cold')\n",
    "plt.xlabel('Month')\n",
    "plt.ylabel('Avg_Patients')\n",
    "plt.show()"
   ]
  },
  {
   "cell_type": "code",
   "execution_count": null,
   "metadata": {},
   "outputs": [],
   "source": []
  }
 ],
 "metadata": {
  "kernelspec": {
   "display_name": "Python 3",
   "language": "python",
   "name": "python3"
  },
  "language_info": {
   "codemirror_mode": {
    "name": "ipython",
    "version": 3
   },
   "file_extension": ".py",
   "mimetype": "text/x-python",
   "name": "python",
   "nbconvert_exporter": "python",
   "pygments_lexer": "ipython3",
   "version": "3.7.4"
  }
 },
 "nbformat": 4,
 "nbformat_minor": 2
}
