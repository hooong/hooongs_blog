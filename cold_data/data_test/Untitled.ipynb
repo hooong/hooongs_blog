{
 "cells": [
  {
   "cell_type": "code",
   "execution_count": 150,
   "metadata": {},
   "outputs": [
    {
     "name": "stdout",
     "output_type": "stream",
     "text": [
      "   Unnamed: 0 Unnamed: 1   date   17_01 17_01.1 17_01.2   17_01.3  17_01.4  \\\n",
      "0        code        sex    age    Pnum    ____    ____  ________   ______   \n",
      "1         J00      total  total  689534  889927  888894  12194784  9091479   \n",
      "2         J00       male  total  312162  402323  401963   5524254  4113865   \n",
      "3         J00       male    0_9   90079  123062  123022   1748353  1331221   \n",
      "4         J00       male  10_19   17330   19945   19898    299905   208218   \n",
      "5         J00       male  20_29   17934   19989   19935    324417   219504   \n",
      "6         J00       male  30_39   27306   31179   31170    498870   338193   \n",
      "7         J00       male  40_49   30880   36536   36556    544243   377374   \n",
      "8         J00       male  50_59   39523   49467   49378    672334   481249   \n",
      "9         J00       male  60_69   39790   52758   52709    648691   502794   \n",
      "10        J00       male  70_79   36524   51008   50957    579053   481818   \n",
      "11        J00       male     80   12931   18379   18338    208388   173494   \n",
      "12        J00     female  total  377372  487604  486931   6670529  4977615   \n",
      "13        J00     female    0_9   87871  119946  119875   1707764  1302902   \n",
      "14        J00     female  10_19   16284   18557   18510    283683   196130   \n",
      "15        J00     female  20_29   25004   28153   28106    470858   316243   \n",
      "16        J00     female  30_39   34742   41135   41083    658158   448511   \n",
      "17        J00     female  40_49   36362   44422   44377    660158   457591   \n",
      "18        J00     female  50_59   52475   66830   66640    914036   650830   \n",
      "19        J00     female  60_69   51497   68166   68113    842025   652202   \n",
      "20        J00     female  70_79   50623   69208   69073    786571   661419   \n",
      "21        J00     female     80   22708   31187   31154    347277   291786   \n",
      "\n",
      "     17_02 17_02.1  ...   19_02 19_02.1 19_02.2   19_02.3  19_02.4   19_03  \\\n",
      "0     Pnum    ____  ...    Pnum    ____    ____  ________   ______    Pnum   \n",
      "1   584417  755840  ...  486538  610559  610089   9342066  7093908  593394   \n",
      "2   266096  345328  ...  220686  277873  277680   4255116  3233620  269296   \n",
      "3    96099  135201  ...   74754  102487  102412   1579419  1257398   99002   \n",
      "4    14479   16571  ...   10731   12147   12146    207206   142596   26173   \n",
      "5    13422   14958  ...   12187   13349   13346    244821   165407   16266   \n",
      "6    20523   23357  ...   16884   18948   18918    351000   239544   20136   \n",
      "7    22527   26604  ...   18511   21357   21351    362383   250242   21174   \n",
      "8    28628   34989  ...   24060   28397   28382    437634   310300   24588   \n",
      "9    30948   39933  ...   27489   34143   34134    470559   368337   26650   \n",
      "10   29058   39384  ...   25438   32920   32899    425227   352395   24959   \n",
      "11   10511   14331  ...   10690   14125   14092    176866   147401   10417   \n",
      "12  318321  410512  ...  265852  332686  332409   5086950  3860288  324098   \n",
      "13   94910  132784  ...   72914   99224   99143   1537363  1222456   99155   \n",
      "14   14206   16086  ...   10426   11676   11645    205432   141866   26055   \n",
      "15   19036   21319  ...   16409   18174   18121    341100   230553   22085   \n",
      "16   27766   32671  ...   22382   25712   25704    455606   312084   28754   \n",
      "17   26764   32499  ...   22173   26119   26096    439172   303502   26733   \n",
      "18   38537   47852  ...   32926   39557   39536    612755   432234   34095   \n",
      "19   39243   50512  ...   35847   44453   44453    621016   481786   35578   \n",
      "20   39394   52168  ...   34292   43751   43741    559724   472516   33426   \n",
      "21   18588   24621  ...   18593   24020   23970    314783   263292   18318   \n",
      "\n",
      "   19_03.1 19_03.2   19_03.3  19_03.4  \n",
      "0     ____    ____  ________   ______  \n",
      "1   770960  770121  11983775  9060113  \n",
      "2   351395  351013   5463204  4135616  \n",
      "3   145123  145005   2241365  1782028  \n",
      "4    30479   30456    513905   356780  \n",
      "5    18034   18031    327906   222576  \n",
      "6    22773   22744    414074   282025  \n",
      "7    24757   24672    417799   289296  \n",
      "8    29718   29682    460154   326145  \n",
      "9    33559   33490    470741   366519  \n",
      "10   32825   32818    433036   357250  \n",
      "11   14127   14115    184224   152997  \n",
      "12  419565  419108   6520571  4924497  \n",
      "13  145077  144907   2239145  1776276  \n",
      "14   29825   29788    510030   353154  \n",
      "15   24677   24655    465855   315295  \n",
      "16   33749   33720    603129   414808  \n",
      "17   32134   32131    536810   371376  \n",
      "18   41698   41647    655124   463252  \n",
      "19   44797   44739    640194   496027  \n",
      "20   43543   43469    561282   474471  \n",
      "21   24065   24052    309003   259839  \n",
      "\n",
      "[22 rows x 138 columns]\n"
     ]
    }
   ],
   "source": [
    "import pandas as pd\n",
    "import numpy as np\n",
    "import matplotlib.pyplot as plt\n",
    "\n",
    "j00_data = pd.read_csv('./j00_1701_1911.csv')\n",
    "print(j00_data)"
   ]
  },
  {
   "cell_type": "code",
   "execution_count": 151,
   "metadata": {},
   "outputs": [],
   "source": [
    "data_month = []\n",
    "\n",
    "list_01 = ['17_01','18_01','19_01']\n",
    "\n",
    "data_01 = pd.DataFrame()\n",
    "for i in list_01:\n",
    "    data_01.loc[:,i] = j00_data[:22][i]\n",
    "    \n",
    "data_01 = data_01[1:].astype('int')\n",
    "data_month.append(data_01.sum(axis=1)[1])"
   ]
  },
  {
   "cell_type": "code",
   "execution_count": 125,
   "metadata": {},
   "outputs": [],
   "source": [
    "list_02 = ['17_02','18_02','19_02']\n",
    "\n",
    "data_02 = pd.DataFrame()\n",
    "for i in list_02:\n",
    "    data_02.loc[:,i] = j00_data[:22][i]\n",
    "    \n",
    "data_02 = data_02[1:].astype('int')\n",
    "data_month.append(data_02.sum(axis=1)[1])"
   ]
  },
  {
   "cell_type": "code",
   "execution_count": 126,
   "metadata": {},
   "outputs": [],
   "source": [
    "list_03 = ['17_03','18_03','19_03']\n",
    "\n",
    "data_03 = pd.DataFrame()\n",
    "for i in list_03:\n",
    "    data_03.loc[:,i] = j00_data[:22][i]\n",
    "    \n",
    "data_03 = data_03[1:].astype('int')\n",
    "data_month.append(data_03.sum(axis=1)[1])"
   ]
  },
  {
   "cell_type": "code",
   "execution_count": 127,
   "metadata": {},
   "outputs": [],
   "source": [
    "list_04 = ['17_04','18_04']\n",
    "\n",
    "data_04 = pd.DataFrame()\n",
    "for i in list_04:\n",
    "    data_04.loc[:,i] = j00_data[:22][i]\n",
    "    \n",
    "data_04 = data_04[1:].astype('int')\n",
    "data_month.append(data_04.sum(axis=1)[1])"
   ]
  },
  {
   "cell_type": "code",
   "execution_count": 128,
   "metadata": {},
   "outputs": [],
   "source": [
    "list_05 = ['17_05','18_05']\n",
    "\n",
    "data_05 = pd.DataFrame()\n",
    "for i in list_05:\n",
    "    data_05.loc[:,i] = j00_data[:22][i]\n",
    "    \n",
    "data_05 = data_05[1:].astype('int')\n",
    "data_month.append(data_05.sum(axis=1)[1])"
   ]
  },
  {
   "cell_type": "code",
   "execution_count": 129,
   "metadata": {},
   "outputs": [],
   "source": [
    "list_06 = ['17_06','18_06']\n",
    "\n",
    "data_06 = pd.DataFrame()\n",
    "for i in list_06:\n",
    "    data_06.loc[:,i] = j00_data[:22][i]\n",
    "    \n",
    "data_06 = data_06[1:].astype('int')\n",
    "data_month.append(data_06.sum(axis=1)[1])"
   ]
  },
  {
   "cell_type": "code",
   "execution_count": 130,
   "metadata": {},
   "outputs": [],
   "source": [
    "list_07 = ['17_07','18_07']\n",
    "\n",
    "data_07 = pd.DataFrame()\n",
    "for i in list_07:\n",
    "    data_07.loc[:,i] = j00_data[:22][i]\n",
    "    \n",
    "data_07 = data_07[1:].astype('int')\n",
    "data_month.append(data_07.sum(axis=1)[1])"
   ]
  },
  {
   "cell_type": "code",
   "execution_count": 131,
   "metadata": {},
   "outputs": [],
   "source": [
    "list_08 = ['17_08','18_08']\n",
    "\n",
    "data_08 = pd.DataFrame()\n",
    "for i in list_08:\n",
    "    data_08.loc[:,i] = j00_data[:22][i]\n",
    "    \n",
    "data_08 = data_08[1:].astype('int')\n",
    "data_month.append(data_08.sum(axis=1)[1])"
   ]
  },
  {
   "cell_type": "code",
   "execution_count": 132,
   "metadata": {},
   "outputs": [],
   "source": [
    "list_09 = ['17_09','18_09']\n",
    "\n",
    "data_09 = pd.DataFrame()\n",
    "for i in list_09:\n",
    "    data_09.loc[:,i] = j00_data[:22][i]\n",
    "    \n",
    "data_09 = data_09[1:].astype('int')\n",
    "data_month.append(data_09.sum(axis=1)[1])"
   ]
  },
  {
   "cell_type": "code",
   "execution_count": 133,
   "metadata": {},
   "outputs": [],
   "source": [
    "list_10 = ['17_10','18_10']\n",
    "\n",
    "data_10 = pd.DataFrame()\n",
    "for i in list_10:\n",
    "    data_10.loc[:,i] = j00_data[:22][i]\n",
    "    \n",
    "data_10 = data_10[1:].astype('int')\n",
    "data_month.append(data_10.sum(axis=1)[1])"
   ]
  },
  {
   "cell_type": "code",
   "execution_count": 134,
   "metadata": {},
   "outputs": [],
   "source": [
    "list_11 = ['17_11','18_11']\n",
    "\n",
    "data_11 = pd.DataFrame()\n",
    "for i in list_11:\n",
    "    data_11.loc[:,i] = j00_data[:22][i]\n",
    "\n",
    "data_11 = data_11[1:].astype('int')\n",
    "data_month.append(data_11.sum(axis=1)[1])"
   ]
  },
  {
   "cell_type": "code",
   "execution_count": 135,
   "metadata": {},
   "outputs": [],
   "source": [
    "list_12 = ['17_12','18_12']\n",
    "\n",
    "data_12 = pd.DataFrame()\n",
    "for i in list_12:\n",
    "    data_12.loc[:,i] = j00_data[:22][i]\n",
    "    \n",
    "data_12 = data_12[1:].astype('int')\n",
    "data_month.append(data_12.sum(axis=1)[1])"
   ]
  },
  {
   "cell_type": "code",
   "execution_count": 145,
   "metadata": {},
   "outputs": [
    {
     "name": "stdout",
     "output_type": "stream",
     "text": [
      "[2315333 1684676 1929994 1316189 1126108  882762  771549  764567 1107565\n",
      " 1237135 1451219 1751161]\n",
      "[771777 561558 643331 658094 563054 441381 385774 382283 553782 618567\n",
      " 725609 875580]\n"
     ]
    }
   ],
   "source": [
    "data_month = np.array(data_month)   # numpy로 만들기\n",
    "print(data_month)\n",
    "a = data_month[:3] // 3    # 전체값에 대한 연산\n",
    "b = data_month[3:] // 2\n",
    "data_month_avg = np.concatenate((a,b))     # numpy array합치기\n",
    "print(data_month_avg)"
   ]
  },
  {
   "cell_type": "code",
   "execution_count": 148,
   "metadata": {},
   "outputs": [
    {
     "data": {
      "image/png": "[encoded data removed]",
      "text/plain": [
       "<Figure size 432x288 with 1 Axes>"
      ]
     },
     "metadata": {
      "needs_background": "light"
     },
     "output_type": "display_data"
    }
   ],
   "source": [
    "month = ['01','02','03','04','05','06','07','08','09','10','11','12']\n",
    "plt.plot(month,data_month_avg,color='red',marker='o',linestyle='solid')\n",
    "plt.title('Cold')\n",
    "plt.xlabel('Month')\n",
    "plt.ylabel('Avg_Patients')\n",
    "plt.show()"
   ]
  },
  {
   "cell_type": "code",
   "execution_count": null,
   "metadata": {},
   "outputs": [],
   "source": []
  }
 ],
 "metadata": {
  "kernelspec": {
   "display_name": "Python 3",
   "language": "python",
   "name": "python3"
  },
  "language_info": {
   "codemirror_mode": {
    "name": "ipython",
    "version": 3
   },
   "file_extension": ".py",
   "mimetype": "text/x-python",
   "name": "python",
   "nbconvert_exporter": "python",
   "pygments_lexer": "ipython3",
   "version": "3.7.4"
  }
 },
 "nbformat": 4,
 "nbformat_minor": 2
}
